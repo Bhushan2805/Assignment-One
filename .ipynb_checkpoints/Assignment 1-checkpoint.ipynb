{
 "cells": [
  {
   "cell_type": "raw",
   "id": "70845092-fdc7-4b04-b5b3-11c6369f0eae",
   "metadata": {
    "tags": []
   },
   "source": [
    " Q1 Explain the key features of python that make it a popular choice for programming.\n",
    "Ans: Python is a programming language that is easy to understand and write, making it a popular choice among developers and programmers. \n",
    "It is compatible with various programming paradigms, such as procedural, object-oriented, and functional programming. \n",
    "Python has a large and active community of developers, an extensive standard library, and third-party packages for various domains. "
   ]
  },
  {
   "cell_type": "raw",
   "id": "dfc60a75-1d7e-4242-adcd-9a9031237c54",
   "metadata": {},
   "source": [
    "Q20 Describe the role of prdefind keywords in python and provide exampe of how they are used in a\n",
    "    program\n",
    "Ans: Keywords are reserved words that have special meanings and cannot be used as identifiers (variable names, function names, etc.Keywords are case-sensitive and cannot be redefined or overridden within a Python program."
   ]
  },
  {
   "cell_type": "code",
   "execution_count": 4,
   "id": "eb6b54ca-7ba1-42ce-a460-9ddb86ed4a2d",
   "metadata": {},
   "outputs": [
    {
     "name": "stdout",
     "output_type": "stream",
     "text": [
      "Hello world\n"
     ]
    }
   ],
   "source": [
    "#Examples \n",
    "print(\"Hello world\")"
   ]
  },
  {
   "cell_type": "code",
   "execution_count": 15,
   "id": "416347d3-dc0d-4326-997a-6216825593f9",
   "metadata": {},
   "outputs": [
    {
     "name": "stdout",
     "output_type": "stream",
     "text": [
      "x is greater than 5\n"
     ]
    }
   ],
   "source": [
    "x = 10\n",
    "if x > 5:\n",
    "    print(\"x is greater than 5\")\n",
    "elif x== 5:\n",
    "    print(\"x is equal to 5\")\n",
    "else:\n",
    "print(\"x is less than 5\")"
   ]
  },
  {
   "cell_type": "raw",
   "id": "ef076489-2651-4147-806f-0c227a85c682",
   "metadata": {},
   "source": [
    "Q3 compare and contrast mutable and immutable objects in python with examples\n",
    "Ans: In Python, Every variable in Python holds an instance of an object. There are two types of objects in Python i.e. Mutable and Immutable objects. Whenever an object is instantiated, it is assigned a unique object id. The type of the object is defined at the runtime and it can’t be changed afterward. However, its state can be changed if it is a mutable object.\n",
    "    Immutable Objects are of in-built datatypes like int, float, bool, string, Unicode, and tuple. In simple words, an immutable object can’t be changed after it is created.\n",
    "    Mutable Objects are of type Python list, Python dict, or Python set. Custom classes are generally mutable."
   ]
  },
  {
   "cell_type": "code",
   "execution_count": 2,
   "id": "c6e5ead5-3a8b-4363-8b3c-6335e1ed25d2",
   "metadata": {},
   "outputs": [
    {
     "ename": "TypeError",
     "evalue": "'str' object does not support item assignment",
     "output_type": "error",
     "traceback": [
      "\u001b[0;31m---------------------------------------------------------------------------\u001b[0m",
      "\u001b[0;31mTypeError\u001b[0m                                 Traceback (most recent call last)",
      "Cell \u001b[0;32mIn[2], line 4\u001b[0m\n\u001b[1;32m      1\u001b[0m \u001b[38;5;66;03m#n this example, we will take a Python string and try to modify its value. \u001b[39;00m\n\u001b[1;32m      2\u001b[0m \u001b[38;5;66;03m#Similar to the tuple, strings are immutable and will throw an error\u001b[39;00m\n\u001b[1;32m      3\u001b[0m message \u001b[38;5;241m=\u001b[39m \u001b[38;5;124m\"\u001b[39m\u001b[38;5;124mWelcome to pwskills\u001b[39m\u001b[38;5;124m\"\u001b[39m\n\u001b[0;32m----> 4\u001b[0m \u001b[43mmessage\u001b[49m\u001b[43m[\u001b[49m\u001b[38;5;241;43m0\u001b[39;49m\u001b[43m]\u001b[49m \u001b[38;5;241m=\u001b[39m \u001b[38;5;124m'\u001b[39m\u001b[38;5;124mp\u001b[39m\u001b[38;5;124m'\u001b[39m\n\u001b[1;32m      5\u001b[0m \u001b[38;5;28mprint\u001b[39m(message)\n",
      "\u001b[0;31mTypeError\u001b[0m: 'str' object does not support item assignment"
     ]
    }
   ],
   "source": [
    "#immutable example\n",
    "#n this example, we will take a Python string and try to modify its value. \n",
    "#Similar to the tuple, strings are immutable and will throw an error\n",
    "message = \"Welcome to pwskills\"\n",
    "message[0] = 'p'\n",
    "print(message)"
   ]
  },
  {
   "cell_type": "code",
   "execution_count": 3,
   "id": "edf0dc2f-fac4-4baa-bf20-c89535c66fb3",
   "metadata": {},
   "outputs": [
    {
     "name": "stdout",
     "output_type": "stream",
     "text": [
      "[1, 2, 3, 4]\n",
      "[1, 5, 2, 3, 4]\n",
      "[1, 5, 3, 4]\n",
      "[5, 3, 4]\n",
      "1\n"
     ]
    }
   ],
   "source": [
    "#mutable example\n",
    "#In this example, we will take a Python List object and try to modify its value using the index. \n",
    "#A list in Python is mutable, that is, it allows us to change its value once it is created. \n",
    "#Lists have the ability to add and remove elements dynamically. \n",
    "#Lists provide methods such as append(),insert(),extend(),remove() and pop().\n",
    "my_list = [1, 2, 3]\n",
    "my_list.append(4)\n",
    "print(my_list) \n",
    "\n",
    "my_list.insert(1, 5)\n",
    "print(my_list) \n",
    "\n",
    "my_list.remove(2)\n",
    "print(my_list) \n",
    "\n",
    "popped_element = my_list.pop(0)\n",
    "print(my_list)         \n",
    "print(popped_element)"
   ]
  },
  {
   "cell_type": "raw",
   "id": "adbda43d-0a6e-4ff6-830f-821350a5c57b",
   "metadata": {},
   "source": [
    "Q4 Discuss the different types of operators in Python and provide examples of how they are used.\n",
    "Ans: Python operators are special symbols or keywords used to perform operations on variables and values. These operators allow for various functionalities, from basic arithmetic operations like addition, subtraction, multiplication, and division to more complex comparisons and logical operations. Python provides several types of operators, including arithmetic operators for mathematical calculations, comparison operators to compare values, and assignment operators to assign values to variables. Additionally, there are logical operators for combining conditional statements, bitwise operators for manipulating individual bits of data, membership operators to check if a value is part of a sequence, and identity operators to compare the memory locations of objects. Understanding and effectively using these operators is crucial for performing various tasks in Python programming.\n",
    "\n",
    "Here is the list of different Python Operators:\n",
    "Arithmetic Operators\n",
    "Comparison Operators\n",
    "Assignment Operators\n",
    "Logical Operators\n",
    "Bitwise Operators\n"
   ]
  },
  {
   "cell_type": "code",
   "execution_count": 8,
   "id": "2f2c0248-26fd-406a-b19d-8c5594e3fa8c",
   "metadata": {},
   "outputs": [
    {
     "name": "stdout",
     "output_type": "stream",
     "text": [
      "15\n"
     ]
    }
   ],
   "source": [
    "#Arithmetic Operators\n",
    "a = 5\n",
    "b = 10\n",
    "print (a+b)"
   ]
  },
  {
   "cell_type": "code",
   "execution_count": 9,
   "id": "060c6e0e-20e8-493e-a61f-ccd92afbcf83",
   "metadata": {},
   "outputs": [
    {
     "name": "stdout",
     "output_type": "stream",
     "text": [
      "False\n"
     ]
    }
   ],
   "source": [
    "#Comparison Operators\n",
    "x = 5\n",
    "y = 3\n",
    "print (x == y)"
   ]
  },
  {
   "cell_type": "code",
   "execution_count": 10,
   "id": "7d7865f1-5e50-4e25-8ef0-505299ac9a09",
   "metadata": {},
   "outputs": [
    {
     "name": "stdout",
     "output_type": "stream",
     "text": [
      "8\n"
     ]
    }
   ],
   "source": [
    "#Assignment Operators\n",
    "x = 5\n",
    "x += 3\n",
    "print(x)"
   ]
  },
  {
   "cell_type": "code",
   "execution_count": 12,
   "id": "3eab26ca-b33f-47b2-95f3-3c5a95b577b5",
   "metadata": {},
   "outputs": [
    {
     "name": "stdout",
     "output_type": "stream",
     "text": [
      "True\n"
     ]
    }
   ],
   "source": [
    "#Logical Operators\n",
    "x = 5\n",
    "print(x > 3 and x <10)\n"
   ]
  },
  {
   "cell_type": "code",
   "execution_count": 13,
   "id": "e0ac5789-e248-49c7-b570-c77adecac6b2",
   "metadata": {},
   "outputs": [
    {
     "name": "stdout",
     "output_type": "stream",
     "text": [
      "7\n"
     ]
    }
   ],
   "source": [
    "#Bitwise Operators\n",
    "print(6 | 3)"
   ]
  },
  {
   "cell_type": "raw",
   "id": "901ad0a5-af88-4340-a709-c483ab5f9265",
   "metadata": {},
   "source": [
    "Q5 Explain the concept of type casting in Python with examples\n",
    "Ans:Type Casting is the method to convert the Python variable datatype into a certain data type in order to perform the required operation by users. the various techniques for typecasting. There can be two types of Type Casting in Python:\n",
    "\n",
    "Python Implicit Type Conversion\n",
    "Python Explicit Type Conversion"
   ]
  },
  {
   "cell_type": "code",
   "execution_count": 15,
   "id": "99cb7e04-e272-42c9-b14f-b9e27b8fa54d",
   "metadata": {},
   "outputs": [
    {
     "name": "stdout",
     "output_type": "stream",
     "text": [
      "<class 'int'>\n",
      "<class 'float'>\n",
      "10.0\n",
      "<class 'float'>\n",
      "21.0\n",
      "<class 'float'>\n"
     ]
    }
   ],
   "source": [
    "#Implicit Type Conversion in Python\n",
    "#In this, method, Python converts the datatype into another datatype automatically.\n",
    "# Users don’t have to involve in this process.\n",
    "\n",
    "a = 7\n",
    "print(type(a)) \n",
    "b = 3.0\n",
    "print(type(b))  \n",
    "c = a + b \n",
    "print(c) \n",
    "print(type(c))\n",
    "d = a * b\n",
    "print(d)\n",
    "print(type(d))"
   ]
  },
  {
   "cell_type": "code",
   "execution_count": 16,
   "id": "365f65b5-718d-4e17-94b0-cbd66d86bea5",
   "metadata": {},
   "outputs": [
    {
     "data": {
      "text/plain": [
       "int"
      ]
     },
     "execution_count": 16,
     "metadata": {},
     "output_type": "execute_result"
    }
   ],
   "source": [
    "#Explicit Type Conversion in Python\n",
    "#In this method, Python needs user involvement to convert the variable data type into the required data type.\n",
    "\n",
    "#Python Convert Int to Float\n",
    "a =5 \n",
    "type(a)\n"
   ]
  },
  {
   "cell_type": "code",
   "execution_count": 17,
   "id": "7fd69ef2-8c03-449a-a0c1-4727f197d199",
   "metadata": {},
   "outputs": [
    {
     "name": "stdout",
     "output_type": "stream",
     "text": [
      "5.0\n",
      "<class 'float'>\n"
     ]
    }
   ],
   "source": [
    "n = float(a)\n",
    "print(n)\n",
    "print(type(n))"
   ]
  },
  {
   "cell_type": "raw",
   "id": "3dd55d5a-8fd2-4e6e-93b3-79e767715510",
   "metadata": {},
   "source": [
    "Q6 How do conditional statements work in Python? Illustrate with examples.\n",
    "Ans:The condition can be any expression that evaluates to a Boolean value (True or False). If the condition is True, the code block indented below the if statement will be executed. If the condition is False, the code block will be skipped."
   ]
  },
  {
   "cell_type": "code",
   "execution_count": 18,
   "id": "92e424fa-fb7e-462e-bfa7-14a4d4bc7752",
   "metadata": {},
   "outputs": [
    {
     "name": "stdout",
     "output_type": "stream",
     "text": [
      "The number is positive\n"
     ]
    }
   ],
   "source": [
    "# example of how to use an if statement to check if a number is positive:\n",
    "num = 5\n",
    "if num> 0:\n",
    "    print(\"The number is positive\")"
   ]
  },
  {
   "cell_type": "raw",
   "id": "cb7ff17b-86f0-4853-a7c0-4ae27ba57298",
   "metadata": {},
   "source": [
    "Q7 Describe the different types of loops in Python and their use cases with examples.\n",
    "Ans:Python programming language provides two types of Python loopshecking time. In this article, we will look at Python loops and understand their working with the help of examp – For loop and While loop to handle looping requirements. Loops in Python provides three ways for executing the loops.\n",
    "While all the ways provide similar basic functionality, they differ in their syntax and condition-checking time. In this article, we will look at Python loops and understand their working with the help of examples."
   ]
  },
  {
   "cell_type": "code",
   "execution_count": 19,
   "id": "e3e3c7ca-db2a-4c2b-a872-2a73792ef042",
   "metadata": {},
   "outputs": [
    {
     "name": "stdout",
     "output_type": "stream",
     "text": [
      "pwskills\n",
      "pwskills\n",
      "pwskills\n"
     ]
    }
   ],
   "source": [
    "# a while loop is used to execute a block of statements repeatedly until a given condition is satisfied.\n",
    "#When the condition becomes false, the line immediately after the loop in the program is executed.\n",
    "count = 0\n",
    "while (count < 3):\n",
    "    count = count + 1\n",
    "    print(\"pwskills\")"
   ]
  },
  {
   "cell_type": "code",
   "execution_count": 20,
   "id": "67b8beaf-8301-4d31-a9c3-9ec5eaba961d",
   "metadata": {},
   "outputs": [
    {
     "name": "stdout",
     "output_type": "stream",
     "text": [
      "0\n",
      "1\n",
      "2\n",
      "3\n"
     ]
    }
   ],
   "source": [
    "#For loops are used for sequential traversal.\n",
    "#For example: traversing a list or string or array etc. \n",
    "#here is “for in” loop which is similar to foreach loop in other languages. \n",
    "n = 4\n",
    "for i in range(0,n):\n",
    "    print(i)"
   ]
  },
  {
   "cell_type": "code",
   "execution_count": null,
   "id": "691bdb5e-6c93-4490-981b-4c309bc2f330",
   "metadata": {},
   "outputs": [],
   "source": []
  }
 ],
 "metadata": {
  "kernelspec": {
   "display_name": "Python 3 (ipykernel)",
   "language": "python",
   "name": "python3"
  },
  "language_info": {
   "codemirror_mode": {
    "name": "ipython",
    "version": 3
   },
   "file_extension": ".py",
   "mimetype": "text/x-python",
   "name": "python",
   "nbconvert_exporter": "python",
   "pygments_lexer": "ipython3",
   "version": "3.10.8"
  }
 },
 "nbformat": 4,
 "nbformat_minor": 5
}
